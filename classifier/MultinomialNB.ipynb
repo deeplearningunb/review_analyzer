{
  "nbformat": 4,
  "nbformat_minor": 0,
  "metadata": {
    "colab": {
      "name": "MultinomialNB.ipynb",
      "version": "0.3.2",
      "provenance": [],
      "collapsed_sections": []
    },
    "kernelspec": {
      "name": "python3",
      "display_name": "Python 3"
    }
  },
  "cells": [
    {
      "cell_type": "code",
      "metadata": {
        "id": "qI_VwGQ2PeUi",
        "colab_type": "code",
        "colab": {}
      },
      "source": [
        "import numpy as np\n",
        "import matplotlib as plt\n",
        "import pandas as pd"
      ],
      "execution_count": 0,
      "outputs": []
    },
    {
      "cell_type": "code",
      "metadata": {
        "id": "ekzo54wDQNhr",
        "colab_type": "code",
        "colab": {}
      },
      "source": [
        "dataset = pd.read_csv('movies_merged.csv', sep='|')\n",
        "dataset = dataset.dropna()\n",
        "dataset = dataset.applymap(str.lower)"
      ],
      "execution_count": 0,
      "outputs": []
    },
    {
      "cell_type": "code",
      "metadata": {
        "id": "xHiE92TFQaMN",
        "colab_type": "code",
        "colab": {}
      },
      "source": [
        "from sklearn.feature_extraction.text import CountVectorizer\n",
        "\n",
        "vectorizer = CountVectorizer(\n",
        "    analyzer = 'word', lowercase=False)\n",
        "features = vectorizer.fit_transform(dataset.iloc[:,0])"
      ],
      "execution_count": 0,
      "outputs": []
    },
    {
      "cell_type": "code",
      "metadata": {
        "id": "u4fezcRCQtSd",
        "colab_type": "code",
        "colab": {}
      },
      "source": [
        "from sklearn.model_selection import train_test_split\n",
        "\n",
        "x_train, x_test, y_train, y_test  = train_test_split(\n",
        "        features, \n",
        "        dataset.iloc[:,1],\n",
        "        train_size=0.8, \n",
        "        random_state=0)"
      ],
      "execution_count": 0,
      "outputs": []
    },
    {
      "cell_type": "code",
      "metadata": {
        "id": "WEN6jz3sRM59",
        "colab_type": "code",
        "colab": {}
      },
      "source": [
        "#import keras\n",
        "#from keras.models import Sequential\n",
        "#from keras.layers import Dense, Embedding\n",
        "from sklearn.naive_bayes import MultinomialNB"
      ],
      "execution_count": 0,
      "outputs": []
    },
    {
      "cell_type": "code",
      "metadata": {
        "id": "0VnCkqC7RM8_",
        "colab_type": "code",
        "colab": {}
      },
      "source": [
        "mnb = MultinomialNB()\n",
        "mnb.fit(x_train, y_train)\n",
        "y_pred = mnb.predict(x_test)"
      ],
      "execution_count": 0,
      "outputs": []
    },
    {
      "cell_type": "code",
      "metadata": {
        "id": "OIMupK5djsUJ",
        "colab_type": "code",
        "outputId": "d1b0369a-9229-4029-85b9-34a4c377c045",
        "colab": {
          "base_uri": "https://localhost:8080/",
          "height": 34
        }
      },
      "source": [
        "from sklearn.metrics import accuracy_score\n",
        "print(accuracy_score(y_test, y_pred))"
      ],
      "execution_count": 81,
      "outputs": [
        {
          "output_type": "stream",
          "text": [
            "0.9242864054184808\n"
          ],
          "name": "stdout"
        }
      ]
    }
  ]
}